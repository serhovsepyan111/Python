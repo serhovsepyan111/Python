{
 "cells": [
  {
   "cell_type": "markdown",
   "metadata": {},
   "source": [
    "# CHAPTER 4\n",
    "# NumPy Basics: Arrays and Vectorized Computation"
   ]
  },
  {
   "cell_type": "code",
   "execution_count": 1,
   "metadata": {},
   "outputs": [],
   "source": [
    "# Here are some of the things you’ll find in NumPy:\n",
    "# • ndarray, an efficient multidimensional array providing fast array-oriented arithmetic\n",
    "# operations and flexible broadcasting capabilities.\n",
    "# • Mathematical functions for fast operations on entire arrays of data without having\n",
    "# to write loops.\n",
    "# • Tools for reading/writing array data to disk and working with memory-mapped\n",
    "# files.\n",
    "# • Linear algebra, random number generation, and Fourier transform capabilities."
   ]
  },
  {
   "cell_type": "code",
   "execution_count": null,
   "metadata": {},
   "outputs": [],
   "source": [
    "# For most data analysis applications, the main areas of functionality I’ll focus on are:\n",
    "# • Fast vectorized array operations for data munging and cleaning, subsetting and\n",
    "# filtering, transformation, and any other kinds of computations\n",
    "# • Common array algorithms like sorting, unique, and set operations\n",
    "# • Efficient descriptive statistics and aggregating/summarizing data\n",
    "# • Data alignment and relational data manipulations for merging and joining\n",
    "# together heterogeneous datasets\n",
    "# • Expressing conditional logic as array expressions instead of loops with if-elifelse\n",
    "# branches\n",
    "# • Group-wise data manipulations (aggregation, transformation, function application)"
   ]
  },
  {
   "cell_type": "code",
   "execution_count": 2,
   "metadata": {},
   "outputs": [
    {
     "name": "stdout",
     "output_type": "stream",
     "text": [
      "Wall time: 15.9 ms\n",
      "Wall time: 718 ms\n"
     ]
    }
   ],
   "source": [
    "# let's compare numpy array and Python list and check the performance of each:\n",
    "\n",
    "import numpy as np\n",
    "\n",
    "my_arr = np.arange(1000000)\n",
    "my_list = list(range(1000000))\n",
    "\n",
    "# Now let's multiply each sequence by 2 and see how much time it takes:\n",
    "\n",
    "%time for _ in range(10): my_arr2 = my_arr * 2\n",
    "    \n",
    "%time for _ in range(10): my_list2 = [x*2 for x in my_list]"
   ]
  },
  {
   "cell_type": "code",
   "execution_count": null,
   "metadata": {},
   "outputs": [],
   "source": [
    "# So !!!! NumPy-based algorithms are generally 10 to 100 times faster (or more) than their\n",
    "# pure Python counterparts and use significantly less memory."
   ]
  },
  {
   "cell_type": "markdown",
   "metadata": {},
   "source": [
    "## 4.1 The NumPy ndarray: A Multidimensional Array Object"
   ]
  },
  {
   "cell_type": "code",
   "execution_count": null,
   "metadata": {},
   "outputs": [],
   "source": [
    "# One of the key features of NumPy is its N-dimensional array object, or ndarray,\n",
    "# which is a fast, flexible container for large datasets in Python. Arrays enable you to\n",
    "# perform mathematical operations on whole blocks of data using similar syntax to the\n",
    "# equivalent operations between scalar elements."
   ]
  },
  {
   "cell_type": "code",
   "execution_count": 3,
   "metadata": {},
   "outputs": [
    {
     "data": {
      "text/plain": [
       "array([[ 3.19315199,  0.71329227, -1.00180566],\n",
       "       [ 0.44663474, -0.28424277,  0.64670784]])"
      ]
     },
     "execution_count": 3,
     "metadata": {},
     "output_type": "execute_result"
    }
   ],
   "source": [
    "# Generate some random data\n",
    "\n",
    "data = np.random.randn(2,3)\n",
    "data"
   ]
  },
  {
   "cell_type": "code",
   "execution_count": 9,
   "metadata": {},
   "outputs": [
    {
     "name": "stdout",
     "output_type": "stream",
     "text": [
      "[[ 31.93151988   7.13292265 -10.01805663]\n",
      " [  4.46634741  -2.84242769   6.46707835]] \n",
      "\n",
      " [[ 6.38630398  1.42658453 -2.00361133]\n",
      " [ 0.89326948 -0.56848554  1.29341567]]\n"
     ]
    }
   ],
   "source": [
    "# Then we write math operations with data:\n",
    "\n",
    "print(data*10, \"\"\"\n",
    "\n",
    "\"\"\" , data + data)"
   ]
  },
  {
   "cell_type": "code",
   "execution_count": 10,
   "metadata": {},
   "outputs": [
    {
     "name": "stdout",
     "output_type": "stream",
     "text": [
      "(2, 3) , float64\n"
     ]
    }
   ],
   "source": [
    "# Every array has a shape and dtype:\n",
    "\n",
    "print(data.shape, \",\", data.dtype)"
   ]
  },
  {
   "cell_type": "markdown",
   "metadata": {},
   "source": [
    "### Creating ndarrays"
   ]
  },
  {
   "cell_type": "code",
   "execution_count": null,
   "metadata": {},
   "outputs": [],
   "source": [
    "# The easiest way to create an array is to use the array function. This accepts any\n",
    "# sequence-like object (including other arrays) and produces a new NumPy array containing\n",
    "# the passed data. For example, a list is a good candidate for conversion:"
   ]
  },
  {
   "cell_type": "code",
   "execution_count": 19,
   "metadata": {},
   "outputs": [
    {
     "name": "stdout",
     "output_type": "stream",
     "text": [
      "These are the shapes of 2 arrays\n",
      "(6,) , (2, 4)\n",
      "\n",
      "\n",
      "\n",
      "These are the arrays\n",
      "[ 6  7  5  8  9 10] \n",
      "\n",
      " [[6 3 2 1]\n",
      " [9 6 5 4]]\n"
     ]
    }
   ],
   "source": [
    "data1 = [6,7,5,8,9,10]\n",
    "arr1 = np.array(data1)\n",
    "\n",
    "data2 = [[6,3,2,1],[9,6,5,4]]\n",
    "arr2 = np.array(data2)\n",
    "\n",
    "print(\"These are the shapes of 2 arrays\")\n",
    "print(arr1.shape, \",\", arr2.shape)\n",
    "print(\"\"\"\n",
    "\n",
    "\"\"\")\n",
    "print(\"These are the arrays\")\n",
    "print(arr1, \"\"\"\n",
    "\n",
    "\"\"\", arr2)"
   ]
  },
  {
   "cell_type": "code",
   "execution_count": 20,
   "metadata": {},
   "outputs": [
    {
     "data": {
      "text/plain": [
       "2"
      ]
     },
     "execution_count": 20,
     "metadata": {},
     "output_type": "execute_result"
    }
   ],
   "source": [
    "# Since data2 was a list of lists, the NumPy array arr2 has two dimensions with shape\n",
    "# inferred from the data.\n",
    "\n",
    "arr2.ndim"
   ]
  },
  {
   "cell_type": "code",
   "execution_count": null,
   "metadata": {},
   "outputs": [],
   "source": []
  },
  {
   "cell_type": "code",
   "execution_count": null,
   "metadata": {},
   "outputs": [],
   "source": []
  },
  {
   "cell_type": "code",
   "execution_count": null,
   "metadata": {},
   "outputs": [],
   "source": []
  },
  {
   "cell_type": "code",
   "execution_count": null,
   "metadata": {},
   "outputs": [],
   "source": []
  },
  {
   "cell_type": "code",
   "execution_count": null,
   "metadata": {},
   "outputs": [],
   "source": []
  },
  {
   "cell_type": "code",
   "execution_count": null,
   "metadata": {},
   "outputs": [],
   "source": []
  }
 ],
 "metadata": {
  "kernelspec": {
   "display_name": "Python 3.7.4 64-bit ('base': conda)",
   "language": "python",
   "name": "python37464bitbaseconda3eef230582e84ea2ab2fabf2bc443ec5"
  },
  "language_info": {
   "codemirror_mode": {
    "name": "ipython",
    "version": 3
   },
   "file_extension": ".py",
   "mimetype": "text/x-python",
   "name": "python",
   "nbconvert_exporter": "python",
   "pygments_lexer": "ipython3",
   "version": "3.7.4"
  }
 },
 "nbformat": 4,
 "nbformat_minor": 2
}
